{
 "cells": [
  {
   "cell_type": "code",
   "execution_count": 7,
   "metadata": {},
   "outputs": [],
   "source": [
    "from load_model import *\n",
    "from face_detecter import *\n",
    "from extract_bottleneck_features import *\n",
    "from flask import request, jsonify, Flask\n",
    "import base64\n",
    "from PIL import Image"
   ]
  },
  {
   "cell_type": "code",
   "execution_count": 8,
   "metadata": {},
   "outputs": [
    {
     "name": "stdout",
     "output_type": "stream",
     "text": [
      "loading Inception Model ......\n",
      "Inception Model Loaded!\n"
     ]
    }
   ],
   "source": [
    "app = Flask(__name__)\n",
    "\n",
    "def get_model():\n",
    "    global model\n",
    "    model = load_model()\n",
    "    print(\"Inception Model Loaded!\")\n",
    "    \n",
    "def INCEPTIONV3_predict_breed(img):\n",
    "    # extract bottlebeck features\n",
    "    bottleneck_features = extract_InceptionV3(img)\n",
    "    pred_vector = INCEPTION_model.predict(bottleneck_features)\n",
    "    return dog_names[np.argmax(pred_vector)]\n",
    "    \n",
    "print(\"loading Inception Model ......\")\n",
    "get_model()\n",
    "\n",
    "@app.route('/predict', methods = ['POST'])\n",
    "def predict():\n",
    "    message = request.get_json(force = True)\n",
    "    encoded = message['image']\n",
    "    decoded = base64.b64decode(encoded)\n",
    "    image = Image.open(io.BytesIO(decoded))\n",
    "    if image.mode != 'RGB':\n",
    "        image = image.convert('RGB')\n",
    "    image = image.resize((224, 224))\n",
    "    image = image.img_to_array(image)\n",
    "    # convert 3D tensor to 4D tensor with shape (1, 224, 224, 3) and return 4D tensor\n",
    "    image = np.expand_dims(image, axis=0)\n",
    "    \n",
    "    prediction = INCEPTIONV3_predict_breed(image)\n",
    "    prediction = prediction.partition('.')\n",
    "    prediction = prediction[2].replace('_', ' ')\n",
    "    \n",
    "    \n",
    "    if face_detector(image):\n",
    "            result = 'This photo looks like a/an {}'.format(prediction)\n",
    "    elif dog_detector(imgage):\n",
    "            result = 'This is an/a {}'.format(prediction)\n",
    "    else:\n",
    "        result = 'So sorry: This image is not recognizable!'\n",
    "    \n",
    "    response = {\n",
    "        'prediction': result\n",
    "    }\n",
    "    \n",
    "    return jsonify(response)\n",
    "    \n",
    "\n",
    "    \n",
    "\n",
    "\n"
   ]
  },
  {
   "cell_type": "code",
   "execution_count": null,
   "metadata": {},
   "outputs": [],
   "source": [
    "\n",
    "\n",
    "\n",
    "         "
   ]
  }
 ],
 "metadata": {
  "kernelspec": {
   "display_name": "Python 3",
   "language": "python",
   "name": "python3"
  },
  "language_info": {
   "codemirror_mode": {
    "name": "ipython",
    "version": 3
   },
   "file_extension": ".py",
   "mimetype": "text/x-python",
   "name": "python",
   "nbconvert_exporter": "python",
   "pygments_lexer": "ipython3",
   "version": "3.6.3"
  }
 },
 "nbformat": 4,
 "nbformat_minor": 2
}
